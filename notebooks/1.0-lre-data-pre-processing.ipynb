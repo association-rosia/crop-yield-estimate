{
 "cells": [
  {
   "cell_type": "code",
   "execution_count": null,
   "id": "2b95f8dd-e942-4c25-9faa-0caf7f19a279",
   "metadata": {},
   "outputs": [],
   "source": [
    "import pandas as pd\n",
    "pd.set_option('display.max_columns', None)\n",
    "\n",
    "import numpy as np\n",
    "import seaborn as sns\n",
    "import matplotlib.pyplot as plt\n",
    "import plotly.express as px"
   ]
  },
  {
   "cell_type": "code",
   "execution_count": null,
   "id": "ab7d4f25-ce72-45cb-9e9f-8dd95e4ce100",
   "metadata": {},
   "outputs": [],
   "source": [
    "data_path = '../data/raw/Train.csv'"
   ]
  },
  {
   "cell_type": "code",
   "execution_count": null,
   "id": "b6cf32c6-f199-4544-a573-d6fb717925e5",
   "metadata": {},
   "outputs": [],
   "source": [
    "df = pd.read_csv(data_path)\n",
    "df = df.set_index('ID')"
   ]
  },
  {
   "cell_type": "code",
   "execution_count": null,
   "id": "d7d06448-b9a3-41a6-878b-34b1a1a46053",
   "metadata": {},
   "outputs": [],
   "source": [
    "list_cols = ['LandPreparationMethod', 'NursDetFactor', 'TransDetFactor', 'OrgFertilizers', 'CropbasalFerts', 'FirstTopDressFert']\n",
    "\n",
    "cat_cols = ['District', 'Block', 'CropEstMethod', 'TransplantingIrrigationSource', 'TransplantingIrrigationPowerSource', \n",
    "            'PCropSolidOrgFertAppMethod', 'MineralFertAppMethod', 'MineralFertAppMethod.1', 'Harv_method', 'Threshing_method', 'Stubble_use']\n",
    "\n",
    "num_cols = ['CultLand', 'CropCultLand', 'CropTillageDepth', 'SeedlingsPerPit', 'TransplantingIrrigationHours', 'TransIrriCost', \n",
    "            'StandingWater', 'Ganaura', 'CropOrgFYM', 'NoFertilizerAppln', 'BasalDAP', 'BasalUrea', '1tdUrea', '1appDaysUrea', \n",
    "            '2tdUrea', '2appDaysUrea', 'Harv_hand_rent', 'Residue_length', 'Residue_perc', 'Acre', 'Yield']\n",
    "\n",
    "date_cols = ['CropTillageDate', 'RcNursEstDate', 'SeedingSowingTransplanting', 'Harv_date', 'Threshing_date']"
   ]
  },
  {
   "cell_type": "code",
   "execution_count": null,
   "id": "78a0f831-afe0-40c5-a7ad-2a4dd429d27c",
   "metadata": {},
   "outputs": [],
   "source": [
    "columns = list_cols + cat_cols + num_cols + date_cols"
   ]
  },
  {
   "cell_type": "code",
   "execution_count": null,
   "id": "e7d63b5f-f9bb-498c-bc5d-fdb6e77c2c5c",
   "metadata": {},
   "outputs": [],
   "source": [
    "len(columns) == len(df.columns)"
   ]
  },
  {
   "cell_type": "markdown",
   "id": "67ecbbcb-a711-4fc1-ab7c-108de07daf1d",
   "metadata": {},
   "source": [
    "## Process list columns"
   ]
  },
  {
   "cell_type": "code",
   "execution_count": null,
   "id": "67f45286-aaa3-470b-9615-621f0f495094",
   "metadata": {},
   "outputs": [],
   "source": [
    "for col in list_cols:\n",
    "    split_col = df[col].str.split().explode()\n",
    "    split_col = pd.get_dummies(split_col, prefix=col, prefix_sep='')\n",
    "    split_col = split_col.astype(int).groupby(level=0).max()\n",
    "    df = df.join(split_col)\n",
    "    df = df.drop(columns=[col])"
   ]
  },
  {
   "cell_type": "markdown",
   "id": "b577e28c-cd93-432e-9476-7fc2f8c0b175",
   "metadata": {},
   "source": [
    "## Process post list columns"
   ]
  },
  {
   "cell_type": "markdown",
   "id": "6c8292bb-d8f5-4140-acdf-2a0906ec0aac",
   "metadata": {
    "jp-MarkdownHeadingCollapsed": true
   },
   "source": [
    "### FYM"
   ]
  },
  {
   "cell_type": "code",
   "execution_count": null,
   "id": "f3ffc58c-6756-4163-bbab-cf8b5a5cd707",
   "metadata": {},
   "outputs": [],
   "source": [
    "# Assumption: CropOrgFYM correlated with OrgFertilizersFYM\n",
    "df_0 = df[['CropOrgFYM', 'OrgFertilizersFYM']][df['OrgFertilizersFYM'] == 0]\n",
    "df_1 = df[['CropOrgFYM', 'OrgFertilizersFYM']][df['OrgFertilizersFYM'] == 1]\n",
    "\n",
    "print(df_0.isnull().sum(), '\\n', df_0.isnull().sum() / len(df_0), '\\n')\n",
    "print(df_1.isnull().sum(), '\\n', df_1.isnull().sum() / len(df_1))"
   ]
  },
  {
   "cell_type": "markdown",
   "id": "8784c2ac-4306-444c-853b-d90c61d3f008",
   "metadata": {
    "jp-MarkdownHeadingCollapsed": true
   },
   "source": [
    "### Ganaura"
   ]
  },
  {
   "cell_type": "code",
   "execution_count": null,
   "id": "167e90af-c7a0-4c48-b815-290a5b338253",
   "metadata": {},
   "outputs": [],
   "source": [
    "# Assumption: Ganaura correlated with OrgFertilizersGanaura\n",
    "df_0 = df[['Ganaura', 'OrgFertilizersGanaura']][df['OrgFertilizersGanaura'] == 0]\n",
    "df_1 = df[['Ganaura', 'OrgFertilizersGanaura']][df['OrgFertilizersGanaura'] == 1]\n",
    "\n",
    "print(df_0.isnull().sum(), '\\n', df_0.isnull().sum() / len(df_0), '\\n')\n",
    "print(df_1.isnull().sum(), '\\n', df_1.isnull().sum() / len(df_1))"
   ]
  },
  {
   "cell_type": "markdown",
   "id": "716dab6c-a6c6-4f4e-a1b7-796681401bd7",
   "metadata": {
    "jp-MarkdownHeadingCollapsed": true
   },
   "source": [
    "### DAP"
   ]
  },
  {
   "cell_type": "code",
   "execution_count": null,
   "id": "16da5166-23e1-426e-864c-14ce95a538d3",
   "metadata": {},
   "outputs": [],
   "source": [
    "# Assumption: BasalDAP correlated with CropbasalFertsDAP\n",
    "df_0 = df[['BasalDAP', 'CropbasalFertsDAP']][df['CropbasalFertsDAP'] == 0]\n",
    "df_1 = df[['BasalDAP', 'CropbasalFertsDAP']][df['CropbasalFertsDAP'] == 1]\n",
    "\n",
    "print(df_0.isnull().sum(), '\\n', df_0.isnull().sum() / len(df_0), '\\n')\n",
    "print(df_1.isnull().sum(), '\\n', df_1.isnull().sum() / len(df_1))\n",
    "\n",
    "df_0 = df[['BasalDAP', 'FirstTopDressFertDAP']][df['FirstTopDressFertDAP'] == 0]\n",
    "df_1 = df[['BasalDAP', 'FirstTopDressFertDAP']][df['FirstTopDressFertDAP'] == 1]\n",
    "\n",
    "print(df_0.isnull().sum(), '\\n', df_0.isnull().sum() / len(df_0), '\\n')\n",
    "print(df_1.isnull().sum(), '\\n', df_1.isnull().sum() / len(df_1))"
   ]
  },
  {
   "cell_type": "markdown",
   "id": "c38d1c6c-0c83-468e-9a27-71ff70e1d4fb",
   "metadata": {
    "jp-MarkdownHeadingCollapsed": true
   },
   "source": [
    "### Urea"
   ]
  },
  {
   "cell_type": "code",
   "execution_count": null,
   "id": "8c7c52bd-824b-4cb4-90ee-dfb1e83b4f49",
   "metadata": {
    "scrolled": true
   },
   "outputs": [],
   "source": [
    "# Assumption: BasalUrea correlated with CropbasalFertsUrea and 1tdUrea correlated with FirstTopDressFertUrea\n",
    "df[['BasalUrea', '1tdUrea', 'CropbasalFertsUrea', 'FirstTopDressFertUrea']]\n",
    "\n",
    "df_0 = df[['BasalUrea', 'CropbasalFertsUrea']][df['CropbasalFertsUrea'] == 0]\n",
    "df_1 = df[['BasalUrea', 'CropbasalFertsUrea']][df['CropbasalFertsUrea'] == 1]\n",
    "\n",
    "print(df_0.isnull().sum(), '\\n', df_0.isnull().sum() / len(df_0), '\\n')\n",
    "print(df_1.isnull().sum(), '\\n', df_1.isnull().sum() / len(df_1))\n",
    "\n",
    "df_0 = df[['1tdUrea', 'FirstTopDressFertUrea']][df['FirstTopDressFertUrea'] == 0]\n",
    "df_1 = df[['1tdUrea', 'FirstTopDressFertUrea']][df['FirstTopDressFertUrea'] == 1]\n",
    "\n",
    "print(df_0.isnull().sum(), '\\n', df_0.isnull().sum() / len(df_0), '\\n')\n",
    "print(df_1.isnull().sum(), '\\n', df_1.isnull().sum() / len(df_1))"
   ]
  },
  {
   "cell_type": "markdown",
   "id": "740df6b7-240c-416b-86d9-0cee73c96e77",
   "metadata": {},
   "source": [
    "### Columns processing"
   ]
  },
  {
   "cell_type": "code",
   "execution_count": null,
   "id": "0173c22a-ebf2-4504-b58b-74a8ed2f915a",
   "metadata": {},
   "outputs": [],
   "source": [
    "corr_list_cols = [('CropOrgFYM', 'OrgFertilizersFYM'), ('Ganaura', 'OrgFertilizersGanaura'), ('BasalDAP', 'CropbasalFertsDAP'), ('BasalUrea', 'CropbasalFertsUrea'), ('1tdUrea', 'FirstTopDressFertUrea')]"
   ]
  },
  {
   "cell_type": "code",
   "execution_count": null,
   "id": "53707613-39b8-4c0e-9657-74f5cfc4facb",
   "metadata": {},
   "outputs": [],
   "source": [
    "for col1, col2 in corr_list_cols:\n",
    "    df.loc[df[col2] == 0, col1] = 0\n",
    "    df = df.drop(columns=[col2])"
   ]
  },
  {
   "cell_type": "markdown",
   "id": "416210a8-1ba9-441f-bb10-df5a970ccd98",
   "metadata": {},
   "source": [
    "## Process date columns"
   ]
  },
  {
   "cell_type": "code",
   "execution_count": null,
   "id": "17a4b0d5-ae72-41b5-a35d-d88d56786265",
   "metadata": {},
   "outputs": [],
   "source": [
    "for col in date_cols:\n",
    "    df[col] = pd.to_datetime(df[col])\n",
    "    df[f'{col}Year'] = df[col].dt.year.astype('string')\n",
    "    df[f'{col}DayOfYear'] = df[col].dt.dayofyear\n",
    "    df[f'{col}DayOfYearSin'] = np.sin(2 * np.pi * df[f'{col}DayOfYear'] / 365)\n",
    "    df[f'{col}DayOfYearCos'] = np.cos(2 * np.pi * df[f'{col}DayOfYear'] / 365)\n",
    "    cat_cols.append(f'{col}Year')\n",
    "    df = df.drop(columns=[col, f'{col}DayOfYear'])"
   ]
  },
  {
   "cell_type": "markdown",
   "id": "6fbb19b7-9857-4755-aae5-437462beb183",
   "metadata": {},
   "source": [
    "## One hot encoding"
   ]
  },
  {
   "cell_type": "code",
   "execution_count": null,
   "id": "4b4f5165-e717-4ac1-be52-fe8cff861006",
   "metadata": {},
   "outputs": [],
   "source": [
    "for col in cat_cols:\n",
    "    df[col] = df[col].fillna('Unknown')\n",
    "    ohe_col = pd.get_dummies(df[col], prefix=col, prefix_sep='')\n",
    "    ohe_col = ohe_col.astype(int).groupby(level=0).max()\n",
    "    df = df.join(ohe_col)\n",
    "    df = df.drop(columns=[col])"
   ]
  },
  {
   "cell_type": "markdown",
   "id": "e07fa890-0576-42c3-b1de-73943dfb42e2",
   "metadata": {},
   "source": [
    "## Missing values"
   ]
  },
  {
   "cell_type": "code",
   "execution_count": null,
   "id": "478c306d-00b9-4763-ac08-2c77787cb9ae",
   "metadata": {},
   "outputs": [],
   "source": [
    "# delete columns\n",
    "missing_column_thr = 50\n",
    "missing_column = df.isnull().sum() / len(df) * 100 > missing_column_thr\n",
    "to_delete_cols = missing_column[missing_column].index.tolist()\n",
    "df = df.drop(columns=to_delete_cols)"
   ]
  },
  {
   "cell_type": "code",
   "execution_count": null,
   "id": "891a8713-cd30-4165-811d-bb4e58297868",
   "metadata": {
    "scrolled": true
   },
   "outputs": [],
   "source": [
    "fill_mode = 'median' # or 'median'\n",
    "\n",
    "missing_column = df.isnull().sum() / len(df) * 100 > 0\n",
    "to_fill_cols = missing_column[missing_column].index.tolist()\n",
    "\n",
    "to_fill_values = []\n",
    "for col in to_fill_cols:\n",
    "    if fill_mode == 'mean':\n",
    "        value = df[col].mean()\n",
    "        df[col] = df[col].fillna(value)\n",
    "    elif fill_mode == 'median':\n",
    "        value = df[col].median()\n",
    "        df[col] = df[col].fillna(value)\n",
    "    else:\n",
    "        raise ValueError('Unknown filling mode')\n",
    "\n",
    "    to_fill_values.append({col: value})"
   ]
  },
  {
   "cell_type": "code",
   "execution_count": null,
   "id": "6b978d14-e0a0-431e-b0c3-0ae739a31020",
   "metadata": {},
   "outputs": [],
   "source": [
    "unique_value_cols = []\n",
    "\n",
    "for col in df.columns:\n",
    "    num_unique_values = len(df[col].unique())\n",
    "    \n",
    "    if num_unique_values == 1:\n",
    "        df = df.drop(columns=[col])\n",
    "        unique_value_cols.append(col)"
   ]
  },
  {
   "cell_type": "code",
   "execution_count": null,
   "id": "eda5295f-21cc-492d-8fbe-9896d973fcd0",
   "metadata": {},
   "outputs": [],
   "source": [
    "plt.figure(figsize=(5, 50))\n",
    "df['yield_acre'] = df['Yield'] / df['Acre']\n",
    "heatmap = sns.heatmap(df.corr()[['yield_acre']].sort_values(by='yield_acre', ascending=False), vmin=-1, vmax=1, annot=True, cmap='BrBG')"
   ]
  },
  {
   "cell_type": "code",
   "execution_count": null,
   "id": "247b3242-3763-42d0-bfbc-ec54b8914949",
   "metadata": {},
   "outputs": [],
   "source": [
    "plt.figure(figsize=(5, 50))\n",
    "df['YieldByAcre'] = df['Yield'] / df['Acre']\n",
    "heatmap = sns.heatmap(df.corr()[['Yield', 'YieldByAcre']].sort_values(by='Yield', ascending=False), vmin=-1, vmax=1, annot=True, cmap='BrBG')"
   ]
  },
  {
   "cell_type": "code",
   "execution_count": null,
   "id": "7abefe5b-e3ee-4390-bc0b-158f2d1409d6",
   "metadata": {},
   "outputs": [],
   "source": []
  }
 ],
 "metadata": {
  "kernelspec": {
   "display_name": "crop-yield-estimate-env",
   "language": "python",
   "name": "crop-yield-estimate-env"
  },
  "language_info": {
   "codemirror_mode": {
    "name": "ipython",
    "version": 3
   },
   "file_extension": ".py",
   "mimetype": "text/x-python",
   "name": "python",
   "nbconvert_exporter": "python",
   "pygments_lexer": "ipython3",
   "version": "3.10.13"
  }
 },
 "nbformat": 4,
 "nbformat_minor": 5
}
