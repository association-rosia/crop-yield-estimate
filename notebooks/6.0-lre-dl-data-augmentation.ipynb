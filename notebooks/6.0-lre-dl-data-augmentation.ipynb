{
 "cells": [
  {
   "cell_type": "code",
   "execution_count": 4,
   "id": "eb46f575",
   "metadata": {},
   "outputs": [],
   "source": [
    "import os\n",
    "import sys\n",
    "sys.path.append('..')\n",
    "\n",
    "from src.constants import get_constants\n",
    "\n",
    "import plotly.express as px\n",
    "import pandas as pd\n",
    "import numpy as np\n",
    "\n",
    "from src.features.config import CYEConfigPreProcessor, CYEConfigTransformer\n",
    "from src.features.preprocessing import CYEDataPreProcessor, CYETargetTransformer"
   ]
  },
  {
   "cell_type": "code",
   "execution_count": 5,
   "id": "be1fd36c",
   "metadata": {},
   "outputs": [],
   "source": [
    "cst = get_constants()\n",
    "config = CYEConfigPreProcessor(fillna=True)\n",
    "processor = CYEDataPreProcessor(config=config)\n",
    "df_train = pd.read_csv(os.path.join('..', cst.file_data_train), index_col='ID')\n",
    "\n",
    "X_train, y_train = df_train.drop(columns=cst.target_column), df_train[cst.target_column]\n",
    "X_train = processor.fit_transform(X_train)\n",
    "\n",
    "X_test = pd.read_csv(os.path.join('..', cst.file_data_test), index_col='ID')\n",
    "X_test = processor.transform(X_test)"
   ]
  },
  {
   "cell_type": "code",
   "execution_count": null,
   "id": "5827721d",
   "metadata": {},
   "outputs": [],
   "source": []
  }
 ],
 "metadata": {
  "kernelspec": {
   "display_name": "crop-yield-estimate-env",
   "language": "python",
   "name": "crop-yield-estimate-env"
  },
  "language_info": {
   "codemirror_mode": {
    "name": "ipython",
    "version": 3
   },
   "file_extension": ".py",
   "mimetype": "text/x-python",
   "name": "python",
   "nbconvert_exporter": "python",
   "pygments_lexer": "ipython3",
   "version": "3.10.13"
  }
 },
 "nbformat": 4,
 "nbformat_minor": 5
}
