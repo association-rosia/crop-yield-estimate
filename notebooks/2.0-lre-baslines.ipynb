{
 "cells": [
  {
   "cell_type": "code",
   "execution_count": 1,
   "id": "f0560cfe",
   "metadata": {},
   "outputs": [],
   "source": [
    "import os\n",
    "import sys\n",
    "sys.path.append('..')\n",
    "\n",
    "import pandas as pd\n",
    "\n",
    "from src.constants import get_constants\n",
    "from src.features.config import CYEConfigPreProcessor, CYEConfigTransformer\n",
    "from src.features.preprocessing import CYEPreProcessor, CYETargetTransformer\n",
    "\n",
    "from sklearn import metrics\n",
    "from sklearn.model_selection import cross_val_predict\n",
    "from sklearn.model_selection import StratifiedKFold"
   ]
  },
  {
   "cell_type": "code",
   "execution_count": 2,
   "id": "b0e05635",
   "metadata": {},
   "outputs": [],
   "source": [
    "cst = get_constants()\n",
    "\n",
    "scale = 'none'\n",
    "\n",
    "config = CYEConfigPreProcessor(delna_thr=0.5)\n",
    "\n",
    "dpp = CYEPreProcessor(config=config)\n",
    "                    \n",
    "config = CYEConfigTransformer(scale=scale)\n",
    "tt_train = CYETargetTransformer(config=config)\n",
    "tt_test = CYETargetTransformer(config=config)\n",
    "\n",
    "df_train = pd.read_csv(os.path.join('..', cst.file_data_train), index_col='ID')\n",
    "\n",
    "file_data_gen = 'TrainGReaTGPT2-9984.csv'\n",
    "df_gen = pd.read_csv(os.path.join('..', cst.path_processed_data, file_data_gen))\n",
    "\n",
    "df_train = pd.concat([df_train, df_gen]).reset_index(drop=True)"
   ]
  },
  {
   "cell_type": "code",
   "execution_count": 3,
   "id": "54dfca1f",
   "metadata": {},
   "outputs": [
    {
     "ename": "KeyError",
     "evalue": "\"['DistrictGaya', 'DistrictRajgir', 'BlockNoors', 'BlockWazirgan', 'TransplantingIrrigationSourceElectric', 'PCropSolidOrgFertAppMethodFalse'] not in index\"",
     "output_type": "error",
     "traceback": [
      "\u001b[0;31m---------------------------------------------------------------------------\u001b[0m",
      "\u001b[0;31mKeyError\u001b[0m                                  Traceback (most recent call last)",
      "Cell \u001b[0;32mIn[3], line 8\u001b[0m\n\u001b[1;32m      6\u001b[0m X_test \u001b[38;5;241m=\u001b[39m pd\u001b[38;5;241m.\u001b[39mread_csv(os\u001b[38;5;241m.\u001b[39mpath\u001b[38;5;241m.\u001b[39mjoin(\u001b[38;5;124m'\u001b[39m\u001b[38;5;124m..\u001b[39m\u001b[38;5;124m'\u001b[39m, cst\u001b[38;5;241m.\u001b[39mfile_data_test), index_col\u001b[38;5;241m=\u001b[39m\u001b[38;5;124m'\u001b[39m\u001b[38;5;124mID\u001b[39m\u001b[38;5;124m'\u001b[39m)\n\u001b[1;32m      7\u001b[0m tt_test\u001b[38;5;241m.\u001b[39mfit(X_test)\n\u001b[0;32m----> 8\u001b[0m X_test \u001b[38;5;241m=\u001b[39m \u001b[43mdpp\u001b[49m\u001b[38;5;241;43m.\u001b[39;49m\u001b[43mtransform\u001b[49m\u001b[43m(\u001b[49m\u001b[43mX_test\u001b[49m\u001b[43m)\u001b[49m\n",
      "File \u001b[0;32m/opt/homebrew/anaconda3/envs/crop-yield-estimate-env/lib/python3.10/site-packages/sklearn/utils/_set_output.py:142\u001b[0m, in \u001b[0;36m_wrap_method_output.<locals>.wrapped\u001b[0;34m(self, X, *args, **kwargs)\u001b[0m\n\u001b[1;32m    140\u001b[0m \u001b[38;5;129m@wraps\u001b[39m(f)\n\u001b[1;32m    141\u001b[0m \u001b[38;5;28;01mdef\u001b[39;00m \u001b[38;5;21mwrapped\u001b[39m(\u001b[38;5;28mself\u001b[39m, X, \u001b[38;5;241m*\u001b[39margs, \u001b[38;5;241m*\u001b[39m\u001b[38;5;241m*\u001b[39mkwargs):\n\u001b[0;32m--> 142\u001b[0m     data_to_wrap \u001b[38;5;241m=\u001b[39m \u001b[43mf\u001b[49m\u001b[43m(\u001b[49m\u001b[38;5;28;43mself\u001b[39;49m\u001b[43m,\u001b[49m\u001b[43m \u001b[49m\u001b[43mX\u001b[49m\u001b[43m,\u001b[49m\u001b[43m \u001b[49m\u001b[38;5;241;43m*\u001b[39;49m\u001b[43margs\u001b[49m\u001b[43m,\u001b[49m\u001b[43m \u001b[49m\u001b[38;5;241;43m*\u001b[39;49m\u001b[38;5;241;43m*\u001b[39;49m\u001b[43mkwargs\u001b[49m\u001b[43m)\u001b[49m\n\u001b[1;32m    143\u001b[0m     \u001b[38;5;28;01mif\u001b[39;00m \u001b[38;5;28misinstance\u001b[39m(data_to_wrap, \u001b[38;5;28mtuple\u001b[39m):\n\u001b[1;32m    144\u001b[0m         \u001b[38;5;66;03m# only wrap the first output for cross decomposition\u001b[39;00m\n\u001b[1;32m    145\u001b[0m         \u001b[38;5;28;01mreturn\u001b[39;00m (\n\u001b[1;32m    146\u001b[0m             _wrap_data_with_container(method, data_to_wrap[\u001b[38;5;241m0\u001b[39m], X, \u001b[38;5;28mself\u001b[39m),\n\u001b[1;32m    147\u001b[0m             \u001b[38;5;241m*\u001b[39mdata_to_wrap[\u001b[38;5;241m1\u001b[39m:],\n\u001b[1;32m    148\u001b[0m         )\n",
      "File \u001b[0;32m~/Projects/crop-yield-estimate/notebooks/../src/features/preprocessing.py:58\u001b[0m, in \u001b[0;36mCYEPreProcessor.transform\u001b[0;34m(self, X)\u001b[0m\n\u001b[1;32m     56\u001b[0m X \u001b[38;5;241m=\u001b[39m \u001b[38;5;28mself\u001b[39m\u001b[38;5;241m.\u001b[39mpreprocess(X)\n\u001b[1;32m     57\u001b[0m X \u001b[38;5;241m=\u001b[39m \u001b[38;5;28mself\u001b[39m\u001b[38;5;241m.\u001b[39mscale_area_columns(X)\n\u001b[0;32m---> 58\u001b[0m X \u001b[38;5;241m=\u001b[39m \u001b[38;5;28;43mself\u001b[39;49m\u001b[38;5;241;43m.\u001b[39;49m\u001b[43mmake_consistent\u001b[49m\u001b[43m(\u001b[49m\u001b[43mX\u001b[49m\u001b[43m)\u001b[49m\n\u001b[1;32m     59\u001b[0m X \u001b[38;5;241m=\u001b[39m \u001b[38;5;28mself\u001b[39m\u001b[38;5;241m.\u001b[39mfill_missing_values(X)\n\u001b[1;32m     60\u001b[0m X \u001b[38;5;241m=\u001b[39m \u001b[38;5;28mself\u001b[39m\u001b[38;5;241m.\u001b[39mdelete_unique_value_cols(X)\n",
      "File \u001b[0;32m~/Projects/crop-yield-estimate/notebooks/../src/features/preprocessing.py:200\u001b[0m, in \u001b[0;36mCYEPreProcessor.make_consistent\u001b[0;34m(self, X)\u001b[0m\n\u001b[1;32m    199\u001b[0m \u001b[38;5;28;01mdef\u001b[39;00m \u001b[38;5;21mmake_consistent\u001b[39m(\u001b[38;5;28mself\u001b[39m, X: DataFrame) \u001b[38;5;241m-\u001b[39m\u001b[38;5;241m>\u001b[39m DataFrame:\n\u001b[0;32m--> 200\u001b[0m     X \u001b[38;5;241m=\u001b[39m \u001b[43mX\u001b[49m\u001b[43m[\u001b[49m\u001b[38;5;28;43mself\u001b[39;49m\u001b[38;5;241;43m.\u001b[39;49m\u001b[43mout_columns\u001b[49m\u001b[43m]\u001b[49m\n\u001b[1;32m    202\u001b[0m     \u001b[38;5;28;01mreturn\u001b[39;00m X\n",
      "File \u001b[0;32m/opt/homebrew/anaconda3/envs/crop-yield-estimate-env/lib/python3.10/site-packages/pandas/core/frame.py:3811\u001b[0m, in \u001b[0;36mDataFrame.__getitem__\u001b[0;34m(self, key)\u001b[0m\n\u001b[1;32m   3809\u001b[0m     \u001b[38;5;28;01mif\u001b[39;00m is_iterator(key):\n\u001b[1;32m   3810\u001b[0m         key \u001b[38;5;241m=\u001b[39m \u001b[38;5;28mlist\u001b[39m(key)\n\u001b[0;32m-> 3811\u001b[0m     indexer \u001b[38;5;241m=\u001b[39m \u001b[38;5;28;43mself\u001b[39;49m\u001b[38;5;241;43m.\u001b[39;49m\u001b[43mcolumns\u001b[49m\u001b[38;5;241;43m.\u001b[39;49m\u001b[43m_get_indexer_strict\u001b[49m\u001b[43m(\u001b[49m\u001b[43mkey\u001b[49m\u001b[43m,\u001b[49m\u001b[43m \u001b[49m\u001b[38;5;124;43m\"\u001b[39;49m\u001b[38;5;124;43mcolumns\u001b[39;49m\u001b[38;5;124;43m\"\u001b[39;49m\u001b[43m)\u001b[49m[\u001b[38;5;241m1\u001b[39m]\n\u001b[1;32m   3813\u001b[0m \u001b[38;5;66;03m# take() does not accept boolean indexers\u001b[39;00m\n\u001b[1;32m   3814\u001b[0m \u001b[38;5;28;01mif\u001b[39;00m \u001b[38;5;28mgetattr\u001b[39m(indexer, \u001b[38;5;124m\"\u001b[39m\u001b[38;5;124mdtype\u001b[39m\u001b[38;5;124m\"\u001b[39m, \u001b[38;5;28;01mNone\u001b[39;00m) \u001b[38;5;241m==\u001b[39m \u001b[38;5;28mbool\u001b[39m:\n",
      "File \u001b[0;32m/opt/homebrew/anaconda3/envs/crop-yield-estimate-env/lib/python3.10/site-packages/pandas/core/indexes/base.py:6108\u001b[0m, in \u001b[0;36mIndex._get_indexer_strict\u001b[0;34m(self, key, axis_name)\u001b[0m\n\u001b[1;32m   6105\u001b[0m \u001b[38;5;28;01melse\u001b[39;00m:\n\u001b[1;32m   6106\u001b[0m     keyarr, indexer, new_indexer \u001b[38;5;241m=\u001b[39m \u001b[38;5;28mself\u001b[39m\u001b[38;5;241m.\u001b[39m_reindex_non_unique(keyarr)\n\u001b[0;32m-> 6108\u001b[0m \u001b[38;5;28;43mself\u001b[39;49m\u001b[38;5;241;43m.\u001b[39;49m\u001b[43m_raise_if_missing\u001b[49m\u001b[43m(\u001b[49m\u001b[43mkeyarr\u001b[49m\u001b[43m,\u001b[49m\u001b[43m \u001b[49m\u001b[43mindexer\u001b[49m\u001b[43m,\u001b[49m\u001b[43m \u001b[49m\u001b[43maxis_name\u001b[49m\u001b[43m)\u001b[49m\n\u001b[1;32m   6110\u001b[0m keyarr \u001b[38;5;241m=\u001b[39m \u001b[38;5;28mself\u001b[39m\u001b[38;5;241m.\u001b[39mtake(indexer)\n\u001b[1;32m   6111\u001b[0m \u001b[38;5;28;01mif\u001b[39;00m \u001b[38;5;28misinstance\u001b[39m(key, Index):\n\u001b[1;32m   6112\u001b[0m     \u001b[38;5;66;03m# GH 42790 - Preserve name from an Index\u001b[39;00m\n",
      "File \u001b[0;32m/opt/homebrew/anaconda3/envs/crop-yield-estimate-env/lib/python3.10/site-packages/pandas/core/indexes/base.py:6171\u001b[0m, in \u001b[0;36mIndex._raise_if_missing\u001b[0;34m(self, key, indexer, axis_name)\u001b[0m\n\u001b[1;32m   6168\u001b[0m     \u001b[38;5;28;01mraise\u001b[39;00m \u001b[38;5;167;01mKeyError\u001b[39;00m(\u001b[38;5;124mf\u001b[39m\u001b[38;5;124m\"\u001b[39m\u001b[38;5;124mNone of [\u001b[39m\u001b[38;5;132;01m{\u001b[39;00mkey\u001b[38;5;132;01m}\u001b[39;00m\u001b[38;5;124m] are in the [\u001b[39m\u001b[38;5;132;01m{\u001b[39;00maxis_name\u001b[38;5;132;01m}\u001b[39;00m\u001b[38;5;124m]\u001b[39m\u001b[38;5;124m\"\u001b[39m)\n\u001b[1;32m   6170\u001b[0m not_found \u001b[38;5;241m=\u001b[39m \u001b[38;5;28mlist\u001b[39m(ensure_index(key)[missing_mask\u001b[38;5;241m.\u001b[39mnonzero()[\u001b[38;5;241m0\u001b[39m]]\u001b[38;5;241m.\u001b[39munique())\n\u001b[0;32m-> 6171\u001b[0m \u001b[38;5;28;01mraise\u001b[39;00m \u001b[38;5;167;01mKeyError\u001b[39;00m(\u001b[38;5;124mf\u001b[39m\u001b[38;5;124m\"\u001b[39m\u001b[38;5;132;01m{\u001b[39;00mnot_found\u001b[38;5;132;01m}\u001b[39;00m\u001b[38;5;124m not in index\u001b[39m\u001b[38;5;124m\"\u001b[39m)\n",
      "\u001b[0;31mKeyError\u001b[0m: \"['DistrictGaya', 'DistrictRajgir', 'BlockNoors', 'BlockWazirgan', 'TransplantingIrrigationSourceElectric', 'PCropSolidOrgFertAppMethodFalse'] not in index\""
     ]
    }
   ],
   "source": [
    "X_train, y_train = df_train.drop(columns=cst.target_column), df_train[cst.target_column]\n",
    "y_train = tt_train.fit_transform(X_train, y_train)\n",
    "X_train = dpp.fit_transform(X_train)\n",
    "\n",
    "# Test data\n",
    "X_test = pd.read_csv(os.path.join('..', cst.file_data_test), index_col='ID')\n",
    "tt_test.fit(X_test)\n",
    "X_test = dpp.transform(X_test)"
   ]
  },
  {
   "cell_type": "code",
   "execution_count": null,
   "id": "c812a36d",
   "metadata": {},
   "outputs": [],
   "source": [
    "def compute_score(estimator1):\n",
    "    bins_train = pd.qcut(y_train, q=10, labels=False)\n",
    "    skf = StratifiedKFold(n_splits=5, shuffle=True)\n",
    "    cv = skf.split(X=X_train, y=bins_train)\n",
    "\n",
    "    y_pred = cross_val_predict(\n",
    "        estimator=estimator1,\n",
    "        X=X_train.to_numpy(),\n",
    "        y=y_train.to_numpy(),\n",
    "        cv=cv,\n",
    "    )\n",
    "    \n",
    "    y_pred = tt_train.inverse_transform(y_pred)\n",
    "    # y_pred = [y if y > 0 else 0 for y in y_pred]\n",
    "    rmse = metrics.mean_squared_error(y_pred=y_pred, y_true=tt_train.inverse_transform(y_train), squared=False)\n",
    "    \n",
    "    print(rmse)\n",
    "\n",
    "    return rmse\n",
    "\n",
    "\n",
    "def submit(estimator2, score, model):\n",
    "    submission = pd.DataFrame()\n",
    "    estimator2.fit(X=X_train.to_numpy(), y=y_train.to_numpy())\n",
    "    \n",
    "    ID = X_test.index.values.tolist()\n",
    "    Yield = estimator2.predict(X_test.to_numpy())\n",
    "    submission = tt_test.inverse_transform(Yield)\n",
    "    submission = pd.Series(submission, index=X_test.index)\n",
    "    submission.name = 'Yield'\n",
    "    \n",
    "    \n",
    "    name_submission = f'{model}_{score:.3f}'\n",
    "    file_submission = os.path.join(os.path.join('..', cst.path_submissions), f'{name_submission}.csv')\n",
    "\n",
    "    submission.to_csv(file_submission, index=True)"
   ]
  },
  {
   "cell_type": "code",
   "execution_count": null,
   "id": "da1442cd",
   "metadata": {},
   "outputs": [],
   "source": [
    "from xgboost import XGBRegressor\n",
    "\n",
    "estimator1 = XGBRegressor()\n",
    "score = compute_score(estimator1)\n",
    "\n",
    "estimator2 = XGBRegressor()\n",
    "submit(estimator2, score, 'xgboost')"
   ]
  },
  {
   "cell_type": "code",
   "execution_count": null,
   "id": "d5372be2",
   "metadata": {},
   "outputs": [],
   "source": [
    "from lightgbm import LGBMRegressor\n",
    "\n",
    "estimator1 = LGBMRegressor(verbosity=-1)\n",
    "score = compute_score(estimator1)\n",
    "\n",
    "estimator2 = LGBMRegressor(verbosity=-1)\n",
    "submit(estimator2, score, 'lightgbm')"
   ]
  },
  {
   "cell_type": "code",
   "execution_count": null,
   "id": "52483303",
   "metadata": {},
   "outputs": [],
   "source": [
    "from catboost import CatBoostRegressor\n",
    "\n",
    "estimator1 = CatBoostRegressor(verbose=0)\n",
    "score = compute_score(estimator1)\n",
    "\n",
    "estimator2 = CatBoostRegressor(verbose=0)\n",
    "submit(estimator2, score, 'catboost')"
   ]
  },
  {
   "cell_type": "code",
   "execution_count": null,
   "id": "3a26f46f",
   "metadata": {},
   "outputs": [],
   "source": [
    "# from lce import LCERegressor\n",
    "\n",
    "# estimator1 = LCERegressor(verbose=0)\n",
    "# scores = compute_score(estimator1)\n",
    "\n",
    "# estimator2 = LCERegressor()\n",
    "# submit(estimator2, scores, 'lce')"
   ]
  },
  {
   "cell_type": "code",
   "execution_count": null,
   "id": "00783ded",
   "metadata": {},
   "outputs": [],
   "source": [
    "from pytorch_tabnet.pretraining import TabNetPretrainer\n",
    "from pytorch_tabnet.tab_model import TabNetRegressor\n",
    "from pytorch_tabnet.augmentations import RegressionSMOTE\n",
    "\n",
    "augmentations = RegressionSMOTE(p=0.2)\n",
    "\n",
    "batch_size = 32\n",
    "\n",
    "unsupervised = TabNetPretrainer()\n",
    "unsupervised.fit(X_train.to_numpy(), \n",
    "                 pretraining_ratio=0.8,\n",
    "                 batch_size=batch_size)\n",
    "\n",
    "estimator = TabNetRegressor()\n",
    "estimator.fit(X_train=X_train.to_numpy(), \n",
    "              y_train=y_train.to_numpy().reshape(-1, 1), \n",
    "              max_epochs=1000,\n",
    "              patience=50,\n",
    "              eval_metric=['rmse'],\n",
    "              from_unsupervised=unsupervised, \n",
    "              batch_size=batch_size,\n",
    "              drop_last=False,\n",
    "              augmentations=augmentations)\n",
    "\n",
    "submission = pd.DataFrame()\n",
    "    \n",
    "ID = X_test.index.values.tolist()\n",
    "Yield = estimator.predict(X_test.to_numpy())\n",
    "\n",
    "submission['ID'] = ID\n",
    "submission['Yield'] = Yield\n",
    "\n",
    "file_submission = os.path.join(os.path.join('..', cst.path_submissions), f'tabnet.csv')\n",
    "submission.to_csv(file_submission, index=False)"
   ]
  }
 ],
 "metadata": {
  "kernelspec": {
   "display_name": "crop-yield-estimate-env",
   "language": "python",
   "name": "crop-yield-estimate-env"
  },
  "language_info": {
   "codemirror_mode": {
    "name": "ipython",
    "version": 3
   },
   "file_extension": ".py",
   "mimetype": "text/x-python",
   "name": "python",
   "nbconvert_exporter": "python",
   "pygments_lexer": "ipython3",
   "version": "3.10.13"
  }
 },
 "nbformat": 4,
 "nbformat_minor": 5
}
