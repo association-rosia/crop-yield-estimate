{
 "cells": [
  {
   "cell_type": "code",
   "execution_count": null,
   "id": "f0560cfe",
   "metadata": {},
   "outputs": [],
   "source": [
    "import os\n",
    "import sys\n",
    "sys.path.append('..')\n",
    "\n",
    "import pandas as pd\n",
    "\n",
    "from src.constants import get_constants\n",
    "from src.features.config import CYEConfigPreProcessor, CYEConfigTransformer\n",
    "from src.features.preprocessing import CYEPreProcessor, CYETargetTransformer\n",
    "from src.features.great.features.unprocessing import CYEGReaTProcessor\n",
    "\n",
    "from sklearn import metrics\n",
    "from sklearn.model_selection import cross_val_predict\n",
    "from sklearn.model_selection import StratifiedKFold\n",
    "\n",
    "cst = get_constants()"
   ]
  },
  {
   "cell_type": "code",
   "execution_count": null,
   "id": "b0e05635",
   "metadata": {},
   "outputs": [],
   "source": [
    "config = CYEConfigPreProcessor(delna_thr=0.5)\n",
    "processor = CYEPreProcessor(config=config)"
   ]
  },
  {
   "cell_type": "code",
   "execution_count": null,
   "id": "54dfca1f",
   "metadata": {},
   "outputs": [],
   "source": [
    "great_processor = CYEGReaTProcessor()\n",
    "generated_file = 'TrainGenerated-50000.csv'\n",
    "df_train = great_processor.transform_merge(generated_file)\n",
    "\n",
    "df_train = df_train[df_train[cst.target_column] < 5000]\n",
    "X_train, y_train = df_train.drop(columns=cst.target_column), df_train[cst.target_column]\n",
    "X_train = processor.fit_transform(X_train)\n",
    "\n",
    "X_test = pd.read_csv(os.path.join(cst.file_data_test), index_col='ID')\n",
    "X_test = processor.transform(X_test)"
   ]
  },
  {
   "cell_type": "code",
   "execution_count": null,
   "id": "c812a36d",
   "metadata": {},
   "outputs": [],
   "source": [
    "def compute_score(estimator1):\n",
    "    bins_train = pd.qcut(y_train, q=10, duplicates='drop', labels=False)\n",
    "    skf = StratifiedKFold(n_splits=5, shuffle=True)\n",
    "    cv = skf.split(X=X_train, y=bins_train)\n",
    "\n",
    "    y_pred = cross_val_predict(\n",
    "        estimator=estimator1,\n",
    "        X=X_train.to_numpy(),\n",
    "        y=y_train.to_numpy(),\n",
    "        cv=cv,\n",
    "    )\n",
    "    \n",
    "    rmse = metrics.mean_squared_error(y_pred=y_pred, y_true=y_train, squared=False)\n",
    "    print(rmse)\n",
    "\n",
    "    return rmse\n",
    "\n",
    "\n",
    "def submit(estimator2, score, model):\n",
    "    submission = pd.DataFrame()\n",
    "    estimator2.fit(X=X_train.to_numpy(), y=y_train.to_numpy())\n",
    "    \n",
    "    ID = X_test.index.values.tolist()\n",
    "    Yield = estimator2.predict(X_test.to_numpy())\n",
    "    submission = pd.Series(Yield, index=X_test.index)\n",
    "    submission.name = 'Yield'\n",
    "    \n",
    "    name_submission = f'{model}_{score:.3f}'\n",
    "    file_submission = os.path.join(os.path.join('..', cst.path_submissions), f'{name_submission}.csv')\n",
    "\n",
    "    submission.to_csv(file_submission, index=True)"
   ]
  },
  {
   "cell_type": "code",
   "execution_count": null,
   "id": "51993822",
   "metadata": {},
   "outputs": [],
   "source": [
    "os.makedirs(os.path.join('..', cst.path_submissions), exist_ok=True)"
   ]
  },
  {
   "cell_type": "code",
   "execution_count": null,
   "id": "da1442cd",
   "metadata": {},
   "outputs": [],
   "source": [
    "from xgboost import XGBRegressor\n",
    "\n",
    "estimator1 = XGBRegressor()\n",
    "score = compute_score(estimator1)\n",
    "\n",
    "estimator2 = XGBRegressor()\n",
    "submit(estimator2, score, 'xgboost')"
   ]
  },
  {
   "cell_type": "code",
   "execution_count": null,
   "id": "d5372be2",
   "metadata": {},
   "outputs": [],
   "source": [
    "from lightgbm import LGBMRegressor\n",
    "\n",
    "estimator1 = LGBMRegressor(verbosity=-1)\n",
    "score = compute_score(estimator1)\n",
    "\n",
    "estimator2 = LGBMRegressor(verbosity=-1)\n",
    "submit(estimator2, score, 'lightgbm')"
   ]
  },
  {
   "cell_type": "code",
   "execution_count": null,
   "id": "52483303",
   "metadata": {},
   "outputs": [],
   "source": [
    "from catboost import CatBoostRegressor\n",
    "\n",
    "estimator1 = CatBoostRegressor(verbose=0)\n",
    "score = compute_score(estimator1)\n",
    "\n",
    "estimator2 = CatBoostRegressor(verbose=0)\n",
    "submit(estimator2, score, 'catboost')"
   ]
  }
 ],
 "metadata": {
  "kernelspec": {
   "display_name": "crop-yield-estimate-env",
   "language": "python",
   "name": "crop-yield-estimate-env"
  },
  "language_info": {
   "codemirror_mode": {
    "name": "ipython",
    "version": 3
   },
   "file_extension": ".py",
   "mimetype": "text/x-python",
   "name": "python",
   "nbconvert_exporter": "python",
   "pygments_lexer": "ipython3",
   "version": "3.10.13"
  }
 },
 "nbformat": 4,
 "nbformat_minor": 5
}
